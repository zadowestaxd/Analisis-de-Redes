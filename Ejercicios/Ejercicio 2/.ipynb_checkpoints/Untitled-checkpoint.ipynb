{
 "cells": [
  {
   "cell_type": "code",
   "execution_count": 6,
   "id": "c6005e93",
   "metadata": {},
   "outputs": [
    {
     "ename": "KeyError",
     "evalue": "'weight'",
     "output_type": "error",
     "traceback": [
      "\u001b[1;31m---------------------------------------------------------------------------\u001b[0m",
      "\u001b[1;31mKeyError\u001b[0m                                  Traceback (most recent call last)",
      "Input \u001b[1;32mIn [6]\u001b[0m, in \u001b[0;36m<cell line: 21>\u001b[1;34m()\u001b[0m\n\u001b[0;32m     18\u001b[0m plt\u001b[38;5;241m.\u001b[39mfigure(figsize\u001b[38;5;241m=\u001b[39m(\u001b[38;5;241m30\u001b[39m,\u001b[38;5;241m30\u001b[39m))\n\u001b[0;32m     20\u001b[0m node_color \u001b[38;5;241m=\u001b[39m [G\u001b[38;5;241m.\u001b[39mdegree(v) \u001b[38;5;28;01mfor\u001b[39;00m v \u001b[38;5;129;01min\u001b[39;00m G]\n\u001b[1;32m---> 21\u001b[0m edge_width \u001b[38;5;241m=\u001b[39m [\u001b[38;5;241m0.6\u001b[39m\u001b[38;5;241m*\u001b[39mG[u][v][\u001b[38;5;124m'\u001b[39m\u001b[38;5;124mweight\u001b[39m\u001b[38;5;124m'\u001b[39m] \u001b[38;5;28;01mfor\u001b[39;00m u,v \u001b[38;5;129;01min\u001b[39;00m G\u001b[38;5;241m.\u001b[39medges()]\n\u001b[0;32m     23\u001b[0m nx\u001b[38;5;241m.\u001b[39mdraw_networkx(G,\n\u001b[0;32m     24\u001b[0m                  node_color\u001b[38;5;241m=\u001b[39mnode_color, alpha\u001b[38;5;241m=\u001b[39m\u001b[38;5;241m0.7\u001b[39m, with_labels\u001b[38;5;241m=\u001b[39m\u001b[38;5;28;01mFalse\u001b[39;00m, \n\u001b[0;32m     25\u001b[0m                  width\u001b[38;5;241m=\u001b[39medge_width, edge_color\u001b[38;5;241m=\u001b[39m\u001b[38;5;124m'\u001b[39m\u001b[38;5;124m.4\u001b[39m\u001b[38;5;124m'\u001b[39m, cmap\u001b[38;5;241m=\u001b[39mplt\u001b[38;5;241m.\u001b[39mcm\u001b[38;5;241m.\u001b[39mviridis)\n\u001b[0;32m     27\u001b[0m \u001b[38;5;66;03m#plt.axis('off')\u001b[39;00m\n",
      "Input \u001b[1;32mIn [6]\u001b[0m, in \u001b[0;36m<listcomp>\u001b[1;34m(.0)\u001b[0m\n\u001b[0;32m     18\u001b[0m plt\u001b[38;5;241m.\u001b[39mfigure(figsize\u001b[38;5;241m=\u001b[39m(\u001b[38;5;241m30\u001b[39m,\u001b[38;5;241m30\u001b[39m))\n\u001b[0;32m     20\u001b[0m node_color \u001b[38;5;241m=\u001b[39m [G\u001b[38;5;241m.\u001b[39mdegree(v) \u001b[38;5;28;01mfor\u001b[39;00m v \u001b[38;5;129;01min\u001b[39;00m G]\n\u001b[1;32m---> 21\u001b[0m edge_width \u001b[38;5;241m=\u001b[39m [\u001b[38;5;241m0.6\u001b[39m\u001b[38;5;241m*\u001b[39m\u001b[43mG\u001b[49m\u001b[43m[\u001b[49m\u001b[43mu\u001b[49m\u001b[43m]\u001b[49m\u001b[43m[\u001b[49m\u001b[43mv\u001b[49m\u001b[43m]\u001b[49m\u001b[43m[\u001b[49m\u001b[38;5;124;43m'\u001b[39;49m\u001b[38;5;124;43mweight\u001b[39;49m\u001b[38;5;124;43m'\u001b[39;49m\u001b[43m]\u001b[49m \u001b[38;5;28;01mfor\u001b[39;00m u,v \u001b[38;5;129;01min\u001b[39;00m G\u001b[38;5;241m.\u001b[39medges()]\n\u001b[0;32m     23\u001b[0m nx\u001b[38;5;241m.\u001b[39mdraw_networkx(G,\n\u001b[0;32m     24\u001b[0m                  node_color\u001b[38;5;241m=\u001b[39mnode_color, alpha\u001b[38;5;241m=\u001b[39m\u001b[38;5;241m0.7\u001b[39m, with_labels\u001b[38;5;241m=\u001b[39m\u001b[38;5;28;01mFalse\u001b[39;00m, \n\u001b[0;32m     25\u001b[0m                  width\u001b[38;5;241m=\u001b[39medge_width, edge_color\u001b[38;5;241m=\u001b[39m\u001b[38;5;124m'\u001b[39m\u001b[38;5;124m.4\u001b[39m\u001b[38;5;124m'\u001b[39m, cmap\u001b[38;5;241m=\u001b[39mplt\u001b[38;5;241m.\u001b[39mcm\u001b[38;5;241m.\u001b[39mviridis)\n\u001b[0;32m     27\u001b[0m \u001b[38;5;66;03m#plt.axis('off')\u001b[39;00m\n",
      "\u001b[1;31mKeyError\u001b[0m: 'weight'"
     ]
    },
    {
     "data": {
      "text/plain": [
       "<Figure size 2160x2160 with 0 Axes>"
      ]
     },
     "metadata": {},
     "output_type": "display_data"
    }
   ],
   "source": [
    "import networkx as nx\n",
    "import pandas as pd\n",
    "import matplotlib.pyplot as plt\n",
    "%matplotlib inline\n",
    "import csv\n",
    "\n",
    "\n",
    "G = nx.read_edgelist(\"edgelist.txt\", delimiter=\",\", nodetype = str, data=[('intensity',int),('lenght',int)])\n",
    "\n",
    "\n",
    "\n",
    "\n",
    "file = pd.read_csv('9_11_attrib.txt', delimiter=',')\n",
    "G1 = nx.Graph()\n",
    "G.add_nodes_from(file)\n",
    "G.edges(data=True)\n",
    "G.nodes(data=True)\n",
    "plt.figure(figsize=(30,30))\n",
    "\n",
    "node_color = [G.degree(v) for v in G]\n",
    "edge_width = [0.6*G[u][v]['intensity'] for u,v in G.edges()]\n",
    "\n",
    "nx.draw_networkx(G,\n",
    "                 node_color=node_color, alpha=0.7, with_labels=True, \n",
    "                 width=edge_width, edge_color='.4', cmap=plt.cm.viridis)\n",
    "\n",
    "#plt.axis('off')\n",
    "plt.tight_layout();"
   ]
  },
  {
   "cell_type": "code",
   "execution_count": null,
   "id": "d0085145",
   "metadata": {},
   "outputs": [],
   "source": []
  }
 ],
 "metadata": {
  "kernelspec": {
   "display_name": "Python 3 (ipykernel)",
   "language": "python",
   "name": "python3"
  },
  "language_info": {
   "codemirror_mode": {
    "name": "ipython",
    "version": 3
   },
   "file_extension": ".py",
   "mimetype": "text/x-python",
   "name": "python",
   "nbconvert_exporter": "python",
   "pygments_lexer": "ipython3",
   "version": "3.9.12"
  }
 },
 "nbformat": 4,
 "nbformat_minor": 5
}
