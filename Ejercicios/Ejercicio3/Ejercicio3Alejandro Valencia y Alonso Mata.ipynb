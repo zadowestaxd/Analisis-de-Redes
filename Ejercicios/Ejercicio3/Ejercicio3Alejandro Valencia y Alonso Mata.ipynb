{
 "cells": [
  {
   "cell_type": "code",
   "execution_count": 4,
   "id": "e01363cd",
   "metadata": {},
   "outputs": [
    {
     "name": "stdout",
     "output_type": "stream",
     "text": [
      "Hecho por Alejandro Valencia Blancas y Alonso Mata\n",
      "\n",
      "\n",
      "\n",
      "En el grafo que hemos dibujo podemos observar singuientes características. El tamaño de las etiquetas de los nodos\n",
      "oscilan entre 0,3 a 1 dependiendo del grado de estos. También podemos apreciar que los nodos están coloreados según su\n",
      "modularidad, el programa ha considerado 8 modularidades diferentes. También he usado una distribución de ajuste de eti-\n",
      "queta para que estas no se solapen. Por último podemos ver también que las etiquetas están coloreadas según el vuelo\n",
      "en el que viajaron. Las aristas están partidas en diferentes colores en base a su fuente.\n"
     ]
    }
   ],
   "source": [
    "print(\"Hecho por Alejandro Valencia Blancas y Alonso Mata\"\"\\n\"\"\\n\"\"\\n\")\n",
    "print(\"En este grafo que hemos representado podemos observar singuientes características. El tamaño de las etiquetas de los nodos\"\"\\n\"\n",
    "     \"oscilan entre 0,3 a 1 dependiendo del grado de estos. También podemos apreciar que los nodos están coloreados según su\"\"\\n\"\n",
    "     \"modularidad, el programa ha considerado 8 modularidades diferentes. También he usado una distribución de ajuste de eti-\"\"\\n\"\n",
    "     \"queta para que estas no se solapen. Por último podemos ver también que las etiquetas están coloreadas según el vuelo\"\"\\n\"\n",
    "     \"en el que viajaron. Las aristas están partidas en diferentes colores en base a su fuente.\")"
   ]
  },
  {
   "cell_type": "code",
   "execution_count": 5,
   "id": "31e7e4b7",
   "metadata": {},
   "outputs": [
    {
     "ename": "FileNotFoundError",
     "evalue": "[Errno 2] No such file or directory: 'grafo1.jpg'",
     "output_type": "error",
     "traceback": [
      "\u001b[1;31m---------------------------------------------------------------------------\u001b[0m",
      "\u001b[1;31mFileNotFoundError\u001b[0m                         Traceback (most recent call last)",
      "Input \u001b[1;32mIn [5]\u001b[0m, in \u001b[0;36m<cell line: 4>\u001b[1;34m()\u001b[0m\n\u001b[0;32m      1\u001b[0m \u001b[38;5;28;01mfrom\u001b[39;00m \u001b[38;5;21;01mPIL\u001b[39;00m \u001b[38;5;28;01mimport\u001b[39;00m Image\n\u001b[0;32m      3\u001b[0m \u001b[38;5;66;03m# creating a object\u001b[39;00m\n\u001b[1;32m----> 4\u001b[0m im \u001b[38;5;241m=\u001b[39m \u001b[43mImage\u001b[49m\u001b[38;5;241;43m.\u001b[39;49m\u001b[43mopen\u001b[49m\u001b[43m(\u001b[49m\u001b[38;5;124;43m'\u001b[39;49m\u001b[38;5;124;43mgrafo1.jpg\u001b[39;49m\u001b[38;5;124;43m'\u001b[39;49m\u001b[43m)\u001b[49m\n\u001b[0;32m      6\u001b[0m im\u001b[38;5;241m.\u001b[39mshow()\n",
      "File \u001b[1;32m~\\anaconda3\\lib\\site-packages\\PIL\\Image.py:2953\u001b[0m, in \u001b[0;36mopen\u001b[1;34m(fp, mode, formats)\u001b[0m\n\u001b[0;32m   2950\u001b[0m     filename \u001b[38;5;241m=\u001b[39m fp\n\u001b[0;32m   2952\u001b[0m \u001b[38;5;28;01mif\u001b[39;00m filename:\n\u001b[1;32m-> 2953\u001b[0m     fp \u001b[38;5;241m=\u001b[39m \u001b[43mbuiltins\u001b[49m\u001b[38;5;241;43m.\u001b[39;49m\u001b[43mopen\u001b[49m\u001b[43m(\u001b[49m\u001b[43mfilename\u001b[49m\u001b[43m,\u001b[49m\u001b[43m \u001b[49m\u001b[38;5;124;43m\"\u001b[39;49m\u001b[38;5;124;43mrb\u001b[39;49m\u001b[38;5;124;43m\"\u001b[39;49m\u001b[43m)\u001b[49m\n\u001b[0;32m   2954\u001b[0m     exclusive_fp \u001b[38;5;241m=\u001b[39m \u001b[38;5;28;01mTrue\u001b[39;00m\n\u001b[0;32m   2956\u001b[0m \u001b[38;5;28;01mtry\u001b[39;00m:\n",
      "\u001b[1;31mFileNotFoundError\u001b[0m: [Errno 2] No such file or directory: 'grafo1.jpg'"
     ]
    }
   ],
   "source": [
    "from PIL import Image\n",
    "\n",
    "# creating a object\n",
    "im = Image.open('grafo1.jpg')\n",
    "  \n",
    "im.show()"
   ]
  },
  {
   "cell_type": "code",
   "execution_count": 7,
   "id": "89dff0a1",
   "metadata": {},
   "outputs": [],
   "source": [
    "# En este grafo dirigido las etiquetas oscilan entre 0,5 y 1 según el grado con peso de sus nodos. \n",
    "# El color de los nodos depende de la partición dependiendo de la clase de modularidad y el color de sus etiquetas \n",
    "# varía su intensidad dependiendo del peso de cada nodo. El color de las aristas depende de la partición por intensidad \n",
    "# a la que pertenezcan.La intensidad del de las aristas depende de su importancia según la fuente de la aristaDe la misma \n",
    "# manera que en el grafo anterior hemos añadido en distribución la opción de ajuste de etiquetas para evitar que se solapen.\n",
    "# El grado medio con pesos del grafo es de 5,536 y la longitud media de camino es de 2,953\n",
    "# \n",
    "\n",
    "\n",
    "im2 = Image.open('gf2.jpg')\n",
    "  \n",
    "im2.show()"
   ]
  },
  {
   "cell_type": "code",
   "execution_count": null,
   "id": "cba5c653",
   "metadata": {},
   "outputs": [],
   "source": []
  }
 ],
 "metadata": {
  "kernelspec": {
   "display_name": "Python 3 (ipykernel)",
   "language": "python",
   "name": "python3"
  },
  "language_info": {
   "codemirror_mode": {
    "name": "ipython",
    "version": 3
   },
   "file_extension": ".py",
   "mimetype": "text/x-python",
   "name": "python",
   "nbconvert_exporter": "python",
   "pygments_lexer": "ipython3",
   "version": "3.9.12"
  }
 },
 "nbformat": 4,
 "nbformat_minor": 5
}
