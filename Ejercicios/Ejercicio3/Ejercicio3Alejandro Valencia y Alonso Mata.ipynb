{
 "cells": [
  {
   "cell_type": "code",
   "execution_count": 4,
   "id": "e01363cd",
   "metadata": {},
   "outputs": [
    {
     "name": "stdout",
     "output_type": "stream",
     "text": [
      "Hecho por Alejandro Valencia Blancas y Alonso Mata\n",
      "\n",
      "\n",
      "\n",
      "En el grafo que hemos dibujo podemos observar singuientes características. El tamaño de las etiquetas de los nodos\n",
      "oscilan entre 0,3 a 1 dependiendo del grado de estos. También podemos apreciar que los nodos están coloreados según su\n",
      "modularidad, el programa ha considerado 8 modularidades diferentes. También he usado una distribución de ajuste de eti-\n",
      "queta para que estas no se solapen. Por último podemos ver también que las etiquetas están coloreadas según el vuelo\n",
      "en el que viajaron. Las aristas están partidas en diferentes colores en base a su fuente.\n"
     ]
    }
   ],
   "source": [
    "print(\"Hecho por Alejandro Valencia Blancas y Alonso Mata\"\"\\n\"\"\\n\"\"\\n\")\n",
    "print(\"En este grafo que hemos representado podemos observar singuientes características. El tamaño de las etiquetas de los nodos\"\"\\n\"\n",
    "     \"oscilan entre 0,3 a 1 dependiendo del grado de estos. También podemos apreciar que los nodos están coloreados según su\"\"\\n\"\n",
    "     \"modularidad, el programa ha considerado 8 modularidades diferentes. También he usado una distribución de ajuste de eti-\"\"\\n\"\n",
    "     \"queta para que estas no se solapen. Por último podemos ver también que las etiquetas están coloreadas según el vuelo\"\"\\n\"\n",
    "     \"en el que viajaron. Las aristas están partidas en diferentes colores en base a su fuente.\")"
   ]
  },
  {
   "cell_type": "code",
   "execution_count": 1,
   "id": "31e7e4b7",
   "metadata": {},
   "outputs": [],
   "source": [
    "from PIL import Image\n",
    "\n",
    "# creating a object\n",
    "im = Image.open('grafo1.jpg')\n",
    "  \n",
    "im.show()"
   ]
  },
  {
   "cell_type": "code",
   "execution_count": 2,
   "id": "89dff0a1",
   "metadata": {},
   "outputs": [],
   "source": [
    "# En este grafo dirigido las etiquetas oscilan entre 0,5 y 1 según el grado con peso de sus nodos. \n",
    "# El color de los nodos depende de la partición dependiendo de la clase de modularidad y el color de sus etiquetas \n",
    "# varía su intensidad dependiendo del peso de cada nodo. El color de las aristas depende de la partición por intensidad \n",
    "# a la que pertenezcan.La intensidad del de las aristas depende de su importancia según la fuente de la aristaDe la misma \n",
    "# manera que en el grafo anterior hemos añadido en distribución la opción de ajuste de etiquetas para evitar que se solapen.\n",
    "# El grado medio con pesos del grafo es de 5,536 y la longitud media de camino es de 2,953\n",
    "# \n",
    "\n",
    "\n",
    "im2 = Image.open('gf2.jpg')\n",
    "  \n",
    "im2.show()"
   ]
  },
  {
   "cell_type": "code",
   "execution_count": null,
   "id": "cba5c653",
   "metadata": {},
   "outputs": [],
   "source": []
  }
 ],
 "metadata": {
  "kernelspec": {
   "display_name": "Python 3 (ipykernel)",
   "language": "python",
   "name": "python3"
  },
  "language_info": {
   "codemirror_mode": {
    "name": "ipython",
    "version": 3
   },
   "file_extension": ".py",
   "mimetype": "text/x-python",
   "name": "python",
   "nbconvert_exporter": "python",
   "pygments_lexer": "ipython3",
   "version": "3.9.12"
  }
 },
 "nbformat": 4,
 "nbformat_minor": 5
}
