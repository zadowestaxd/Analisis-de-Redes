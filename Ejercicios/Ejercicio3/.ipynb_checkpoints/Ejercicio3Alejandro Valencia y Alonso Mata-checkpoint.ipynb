{
 "cells": [
  {
   "cell_type": "code",
   "execution_count": 2,
   "id": "d1bb6d39",
   "metadata": {},
   "outputs": [
    {
     "name": "stdout",
     "output_type": "stream",
     "text": [
      "En el grafo que hemos dibujo podemos observar singuientes características. El tamaño de las etiquetas de los nodos\n",
      "oscilan entre 0,3 a 1 dependiendo del grado de estos. También podemos apreciar que los nodos están coloreados según su\n",
      "modularidad, el programa ha considerado 8 modularidades diferentes. También he usado una distribución de ajuste de eti-\n",
      "queta para que estas no se solapen. Por último podemos ver también que las etiquetas están coloreadas según el vuelo\n",
      "en el que viajaron. Las aristas están partidas en diferentes colores en base a su fuente.\n"
     ]
    }
   ],
   "source": [
    "print(\"Hecho por Alejandro Valencia Blancas y Alonso Mata\"\"\\n\"\"\\n\"\"\\n\")\n",
    "print(\"En el grafo que hemos dibujo podemos observar singuientes características. El tamaño de las etiquetas de los nodos\"\"\\n\"\n",
    "     \"oscilan entre 0,3 a 1 dependiendo del grado de estos. También podemos apreciar que los nodos están coloreados según su\"\"\\n\"\n",
    "     \"modularidad, el programa ha considerado 8 modularidades diferentes. También he usado una distribución de ajuste de eti-\"\"\\n\"\n",
    "     \"queta para que estas no se solapen. Por último podemos ver también que las etiquetas están coloreadas según el vuelo\"\"\\n\"\n",
    "     \"en el que viajaron. Las aristas están partidas en diferentes colores en base a su fuente.\")"
   ]
  },
  {
   "cell_type": "code",
   "execution_count": 3,
   "id": "29eb5faa",
   "metadata": {},
   "outputs": [],
   "source": [
    "from PIL import Image\n",
    "\n",
    "# creating a object\n",
    "im = Image.open('grafo1.jpg')\n",
    "  \n",
    "im.show()"
   ]
  },
  {
   "cell_type": "code",
   "execution_count": null,
   "id": "f13a8cc5",
   "metadata": {},
   "outputs": [],
   "source": []
  }
 ],
 "metadata": {
  "kernelspec": {
   "display_name": "Python 3 (ipykernel)",
   "language": "python",
   "name": "python3"
  },
  "language_info": {
   "codemirror_mode": {
    "name": "ipython",
    "version": 3
   },
   "file_extension": ".py",
   "mimetype": "text/x-python",
   "name": "python",
   "nbconvert_exporter": "python",
   "pygments_lexer": "ipython3",
   "version": "3.9.12"
  }
 },
 "nbformat": 4,
 "nbformat_minor": 5
}
