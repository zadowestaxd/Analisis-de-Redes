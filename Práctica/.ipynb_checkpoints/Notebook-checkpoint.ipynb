{
 "cells": [
  {
   "cell_type": "code",
   "execution_count": null,
   "id": "fd04dbb3",
   "metadata": {},
   "outputs": [],
   "source": [
    "##Grupo 13, Alejandro Valencia Blancas y Alonso Mata Fernández de Valderrama "
   ]
  },
  {
   "cell_type": "code",
   "execution_count": null,
   "id": "d9498d4e",
   "metadata": {},
   "outputs": [],
   "source": [
    "##En el caso de Gephi, no hemos tenido que realizar ningún cambio en el archivo\n",
    "##para poder abrirlo, ya que el archivo del que hacemos uso es un .edge el cual\n",
    "##gephi reconoce y puede trabajar perfectamente con él tratándolo como una \n",
    "##lista de adyacencia.\n",
    "##\n",
    "##"
   ]
  }
 ],
 "metadata": {
  "kernelspec": {
   "display_name": "Python 3 (ipykernel)",
   "language": "python",
   "name": "python3"
  },
  "language_info": {
   "codemirror_mode": {
    "name": "ipython",
    "version": 3
   },
   "file_extension": ".py",
   "mimetype": "text/x-python",
   "name": "python",
   "nbconvert_exporter": "python",
   "pygments_lexer": "ipython3",
   "version": "3.9.12"
  }
 },
 "nbformat": 4,
 "nbformat_minor": 5
}
