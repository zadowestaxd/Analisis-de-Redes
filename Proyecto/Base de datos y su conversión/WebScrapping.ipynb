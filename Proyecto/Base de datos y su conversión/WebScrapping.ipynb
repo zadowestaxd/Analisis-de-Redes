{
 "cells": [
  {
   "cell_type": "code",
   "execution_count": 4,
   "id": "8518e6c0",
   "metadata": {},
   "outputs": [],
   "source": [
    "import pandas as pd\n",
    "df_list = pd.read_html('https://www.wikidex.net/wiki/Lista_de_Pok%C3%A9mon_por_aparici%C3%B3n_en_la_vigesimosegunda_temporada')\n"
   ]
  },
  {
   "cell_type": "code",
   "execution_count": 5,
   "id": "9cfb33d6",
   "metadata": {},
   "outputs": [
    {
     "data": {
      "text/plain": [
       "23"
      ]
     },
     "execution_count": 5,
     "metadata": {},
     "output_type": "execute_result"
    }
   ],
   "source": [
    "len(df_list)"
   ]
  },
  {
   "cell_type": "code",
   "execution_count": 7,
   "id": "1d49be02",
   "metadata": {},
   "outputs": [
    {
     "data": {
      "text/html": [
       "<div>\n",
       "<style scoped>\n",
       "    .dataframe tbody tr th:only-of-type {\n",
       "        vertical-align: middle;\n",
       "    }\n",
       "\n",
       "    .dataframe tbody tr th {\n",
       "        vertical-align: top;\n",
       "    }\n",
       "\n",
       "    .dataframe thead th {\n",
       "        text-align: right;\n",
       "    }\n",
       "</style>\n",
       "<table border=\"1\" class=\"dataframe\">\n",
       "  <thead>\n",
       "    <tr style=\"text-align: right;\">\n",
       "      <th></th>\n",
       "      <th>#</th>\n",
       "      <th>Pokémon</th>\n",
       "      <th>Tipo(s)</th>\n",
       "      <th>Tipo(s).1</th>\n",
       "      <th>Episodios en los que aparece</th>\n",
       "    </tr>\n",
       "  </thead>\n",
       "  <tbody>\n",
       "    <tr>\n",
       "      <th>0</th>\n",
       "      <td>1</td>\n",
       "      <td>Bulbasaur</td>\n",
       "      <td>Planta</td>\n",
       "      <td>Veneno</td>\n",
       "      <td>EP1077.</td>\n",
       "    </tr>\n",
       "    <tr>\n",
       "      <th>1</th>\n",
       "      <td>2</td>\n",
       "      <td>Ivysaur</td>\n",
       "      <td>Planta</td>\n",
       "      <td>Veneno</td>\n",
       "      <td>EP1039.</td>\n",
       "    </tr>\n",
       "    <tr>\n",
       "      <th>2</th>\n",
       "      <td>3</td>\n",
       "      <td>Venusaur</td>\n",
       "      <td>Planta</td>\n",
       "      <td>Veneno</td>\n",
       "      <td>EP1085.</td>\n",
       "    </tr>\n",
       "    <tr>\n",
       "      <th>3</th>\n",
       "      <td>4</td>\n",
       "      <td>Charmander</td>\n",
       "      <td>Fuego</td>\n",
       "      <td>Fuego</td>\n",
       "      <td>EP1042.</td>\n",
       "    </tr>\n",
       "    <tr>\n",
       "      <th>4</th>\n",
       "      <td>6</td>\n",
       "      <td>Charizard</td>\n",
       "      <td>Fuego</td>\n",
       "      <td>Volador</td>\n",
       "      <td>EP1038, EP1042, EP1046, EP1049, EP1050, EP1055...</td>\n",
       "    </tr>\n",
       "    <tr>\n",
       "      <th>...</th>\n",
       "      <td>...</td>\n",
       "      <td>...</td>\n",
       "      <td>...</td>\n",
       "      <td>...</td>\n",
       "      <td>...</td>\n",
       "    </tr>\n",
       "    <tr>\n",
       "      <th>337</th>\n",
       "      <td>803</td>\n",
       "      <td>Poipole</td>\n",
       "      <td>Veneno</td>\n",
       "      <td>Veneno</td>\n",
       "      <td>EP1083, EP1087 y EP1088.</td>\n",
       "    </tr>\n",
       "    <tr>\n",
       "      <th>338</th>\n",
       "      <td>804</td>\n",
       "      <td>Naganadel</td>\n",
       "      <td>Veneno</td>\n",
       "      <td>Dragón</td>\n",
       "      <td>EP1083, EP1084, EP1085, EP1086, EP1087 y EP1088.</td>\n",
       "    </tr>\n",
       "    <tr>\n",
       "      <th>339</th>\n",
       "      <td>807</td>\n",
       "      <td>Zeraora</td>\n",
       "      <td>Eléctrico</td>\n",
       "      <td>Eléctrico</td>\n",
       "      <td>EP1043, EP1044 y EP1083.</td>\n",
       "    </tr>\n",
       "    <tr>\n",
       "      <th>340</th>\n",
       "      <td>808</td>\n",
       "      <td>Meltan</td>\n",
       "      <td>Acero</td>\n",
       "      <td>Acero</td>\n",
       "      <td>EP1049, EP1052, EP1054, EP1055, EP1057, EP1058...</td>\n",
       "    </tr>\n",
       "    <tr>\n",
       "      <th>341</th>\n",
       "      <td>809</td>\n",
       "      <td>Melmetal</td>\n",
       "      <td>Acero</td>\n",
       "      <td>Acero</td>\n",
       "      <td>EP1081, EP1084, EP1085, EP1086, EP1087, EP1088...</td>\n",
       "    </tr>\n",
       "  </tbody>\n",
       "</table>\n",
       "<p>342 rows × 5 columns</p>\n",
       "</div>"
      ],
      "text/plain": [
       "       #     Pokémon    Tipo(s)  Tipo(s).1  \\\n",
       "0      1   Bulbasaur     Planta     Veneno   \n",
       "1      2     Ivysaur     Planta     Veneno   \n",
       "2      3    Venusaur     Planta     Veneno   \n",
       "3      4  Charmander      Fuego      Fuego   \n",
       "4      6   Charizard      Fuego    Volador   \n",
       "..   ...         ...        ...        ...   \n",
       "337  803     Poipole     Veneno     Veneno   \n",
       "338  804   Naganadel     Veneno     Dragón   \n",
       "339  807     Zeraora  Eléctrico  Eléctrico   \n",
       "340  808      Meltan      Acero      Acero   \n",
       "341  809    Melmetal      Acero      Acero   \n",
       "\n",
       "                          Episodios en los que aparece  \n",
       "0                                              EP1077.  \n",
       "1                                              EP1039.  \n",
       "2                                              EP1085.  \n",
       "3                                              EP1042.  \n",
       "4    EP1038, EP1042, EP1046, EP1049, EP1050, EP1055...  \n",
       "..                                                 ...  \n",
       "337                           EP1083, EP1087 y EP1088.  \n",
       "338   EP1083, EP1084, EP1085, EP1086, EP1087 y EP1088.  \n",
       "339                           EP1043, EP1044 y EP1083.  \n",
       "340  EP1049, EP1052, EP1054, EP1055, EP1057, EP1058...  \n",
       "341  EP1081, EP1084, EP1085, EP1086, EP1087, EP1088...  \n",
       "\n",
       "[342 rows x 5 columns]"
      ]
     },
     "execution_count": 7,
     "metadata": {},
     "output_type": "execute_result"
    }
   ],
   "source": [
    "df_list[0]"
   ]
  },
  {
   "cell_type": "code",
   "execution_count": 10,
   "id": "c8c28d23",
   "metadata": {},
   "outputs": [],
   "source": [
    "df_list[0].to_csv('basededatosspace.csv', sep ='\\t')"
   ]
  },
  {
   "cell_type": "code",
   "execution_count": 9,
   "id": "4cb13da9",
   "metadata": {},
   "outputs": [
    {
     "name": "stdout",
     "output_type": "stream",
     "text": [
      "                   Pokémon por aparición en el anime Unnamed: 1\n",
      "0  Serie El Comienzo Lista de Pokémon por aparici...        NaN\n",
      "1                                  Serie El Comienzo        NaN\n",
      "2  Lista de Pokémon por aparición en la primera t...        NaN\n",
      "3  Lista de Pokémon por aparición en la primera t...  T01 • T02\n",
      "4  Serie Oro y Plata Lista de Pokémon por aparici...        NaN\n"
     ]
    }
   ],
   "source": [
    "print(df_list[1].head())"
   ]
  },
  {
   "cell_type": "code",
   "execution_count": 16,
   "id": "31f34f50",
   "metadata": {},
   "outputs": [
    {
     "ename": "KeyError",
     "evalue": "'col'",
     "output_type": "error",
     "traceback": [
      "\u001b[1;31m---------------------------------------------------------------------------\u001b[0m",
      "\u001b[1;31mKeyError\u001b[0m                                  Traceback (most recent call last)",
      "File \u001b[1;32m~\\anaconda3\\lib\\site-packages\\pandas\\core\\indexes\\base.py:3621\u001b[0m, in \u001b[0;36mIndex.get_loc\u001b[1;34m(self, key, method, tolerance)\u001b[0m\n\u001b[0;32m   3620\u001b[0m \u001b[38;5;28;01mtry\u001b[39;00m:\n\u001b[1;32m-> 3621\u001b[0m     \u001b[38;5;28;01mreturn\u001b[39;00m \u001b[38;5;28;43mself\u001b[39;49m\u001b[38;5;241;43m.\u001b[39;49m\u001b[43m_engine\u001b[49m\u001b[38;5;241;43m.\u001b[39;49m\u001b[43mget_loc\u001b[49m\u001b[43m(\u001b[49m\u001b[43mcasted_key\u001b[49m\u001b[43m)\u001b[49m\n\u001b[0;32m   3622\u001b[0m \u001b[38;5;28;01mexcept\u001b[39;00m \u001b[38;5;167;01mKeyError\u001b[39;00m \u001b[38;5;28;01mas\u001b[39;00m err:\n",
      "File \u001b[1;32m~\\anaconda3\\lib\\site-packages\\pandas\\_libs\\index.pyx:136\u001b[0m, in \u001b[0;36mpandas._libs.index.IndexEngine.get_loc\u001b[1;34m()\u001b[0m\n",
      "File \u001b[1;32m~\\anaconda3\\lib\\site-packages\\pandas\\_libs\\index.pyx:163\u001b[0m, in \u001b[0;36mpandas._libs.index.IndexEngine.get_loc\u001b[1;34m()\u001b[0m\n",
      "File \u001b[1;32mpandas\\_libs\\hashtable_class_helper.pxi:5198\u001b[0m, in \u001b[0;36mpandas._libs.hashtable.PyObjectHashTable.get_item\u001b[1;34m()\u001b[0m\n",
      "File \u001b[1;32mpandas\\_libs\\hashtable_class_helper.pxi:5206\u001b[0m, in \u001b[0;36mpandas._libs.hashtable.PyObjectHashTable.get_item\u001b[1;34m()\u001b[0m\n",
      "\u001b[1;31mKeyError\u001b[0m: 'col'",
      "\nThe above exception was the direct cause of the following exception:\n",
      "\u001b[1;31mKeyError\u001b[0m                                  Traceback (most recent call last)",
      "Input \u001b[1;32mIn [16]\u001b[0m, in \u001b[0;36m<cell line: 1>\u001b[1;34m()\u001b[0m\n\u001b[1;32m----> 1\u001b[0m \u001b[43mdf_list\u001b[49m\u001b[43m[\u001b[49m\u001b[38;5;241;43m1\u001b[39;49m\u001b[43m]\u001b[49m\u001b[43m[\u001b[49m\u001b[38;5;124;43m'\u001b[39;49m\u001b[38;5;124;43mcol\u001b[39;49m\u001b[38;5;124;43m'\u001b[39;49m\u001b[43m]\u001b[49m\u001b[38;5;241m.\u001b[39mstr\u001b[38;5;241m.\u001b[39mget_dummies(sep\u001b[38;5;241m=\u001b[39m\u001b[38;5;124m'\u001b[39m\u001b[38;5;124m,\u001b[39m\u001b[38;5;124m'\u001b[39m)\n",
      "File \u001b[1;32m~\\anaconda3\\lib\\site-packages\\pandas\\core\\frame.py:3505\u001b[0m, in \u001b[0;36mDataFrame.__getitem__\u001b[1;34m(self, key)\u001b[0m\n\u001b[0;32m   3503\u001b[0m \u001b[38;5;28;01mif\u001b[39;00m \u001b[38;5;28mself\u001b[39m\u001b[38;5;241m.\u001b[39mcolumns\u001b[38;5;241m.\u001b[39mnlevels \u001b[38;5;241m>\u001b[39m \u001b[38;5;241m1\u001b[39m:\n\u001b[0;32m   3504\u001b[0m     \u001b[38;5;28;01mreturn\u001b[39;00m \u001b[38;5;28mself\u001b[39m\u001b[38;5;241m.\u001b[39m_getitem_multilevel(key)\n\u001b[1;32m-> 3505\u001b[0m indexer \u001b[38;5;241m=\u001b[39m \u001b[38;5;28;43mself\u001b[39;49m\u001b[38;5;241;43m.\u001b[39;49m\u001b[43mcolumns\u001b[49m\u001b[38;5;241;43m.\u001b[39;49m\u001b[43mget_loc\u001b[49m\u001b[43m(\u001b[49m\u001b[43mkey\u001b[49m\u001b[43m)\u001b[49m\n\u001b[0;32m   3506\u001b[0m \u001b[38;5;28;01mif\u001b[39;00m is_integer(indexer):\n\u001b[0;32m   3507\u001b[0m     indexer \u001b[38;5;241m=\u001b[39m [indexer]\n",
      "File \u001b[1;32m~\\anaconda3\\lib\\site-packages\\pandas\\core\\indexes\\base.py:3623\u001b[0m, in \u001b[0;36mIndex.get_loc\u001b[1;34m(self, key, method, tolerance)\u001b[0m\n\u001b[0;32m   3621\u001b[0m     \u001b[38;5;28;01mreturn\u001b[39;00m \u001b[38;5;28mself\u001b[39m\u001b[38;5;241m.\u001b[39m_engine\u001b[38;5;241m.\u001b[39mget_loc(casted_key)\n\u001b[0;32m   3622\u001b[0m \u001b[38;5;28;01mexcept\u001b[39;00m \u001b[38;5;167;01mKeyError\u001b[39;00m \u001b[38;5;28;01mas\u001b[39;00m err:\n\u001b[1;32m-> 3623\u001b[0m     \u001b[38;5;28;01mraise\u001b[39;00m \u001b[38;5;167;01mKeyError\u001b[39;00m(key) \u001b[38;5;28;01mfrom\u001b[39;00m \u001b[38;5;21;01merr\u001b[39;00m\n\u001b[0;32m   3624\u001b[0m \u001b[38;5;28;01mexcept\u001b[39;00m \u001b[38;5;167;01mTypeError\u001b[39;00m:\n\u001b[0;32m   3625\u001b[0m     \u001b[38;5;66;03m# If we have a listlike key, _check_indexing_error will raise\u001b[39;00m\n\u001b[0;32m   3626\u001b[0m     \u001b[38;5;66;03m#  InvalidIndexError. Otherwise we fall through and re-raise\u001b[39;00m\n\u001b[0;32m   3627\u001b[0m     \u001b[38;5;66;03m#  the TypeError.\u001b[39;00m\n\u001b[0;32m   3628\u001b[0m     \u001b[38;5;28mself\u001b[39m\u001b[38;5;241m.\u001b[39m_check_indexing_error(key)\n",
      "\u001b[1;31mKeyError\u001b[0m: 'col'"
     ]
    }
   ],
   "source": [
    "df_list[1]['col'].str.get_dummies(sep=',')"
   ]
  },
  {
   "cell_type": "code",
   "execution_count": null,
   "id": "61bedb6e",
   "metadata": {},
   "outputs": [],
   "source": []
  }
 ],
 "metadata": {
  "kernelspec": {
   "display_name": "Python 3 (ipykernel)",
   "language": "python",
   "name": "python3"
  },
  "language_info": {
   "codemirror_mode": {
    "name": "ipython",
    "version": 3
   },
   "file_extension": ".py",
   "mimetype": "text/x-python",
   "name": "python",
   "nbconvert_exporter": "python",
   "pygments_lexer": "ipython3",
   "version": "3.9.12"
  },
  "vscode": {
   "interpreter": {
    "hash": "912eb333800c3fc1f0bcdd2905c5ee82f3d7b814b398fd82a7c4297d91d79ff9"
   }
  }
 },
 "nbformat": 4,
 "nbformat_minor": 5
}
