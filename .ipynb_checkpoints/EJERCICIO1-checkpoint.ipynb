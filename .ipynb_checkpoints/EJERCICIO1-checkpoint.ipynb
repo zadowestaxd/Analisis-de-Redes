{
 "cells": [
  {
   "cell_type": "code",
   "execution_count": 22,
   "id": "9e36761b",
   "metadata": {},
   "outputs": [
    {
     "name": "stdout",
     "output_type": "stream",
     "text": [
      "                                                                                    Hecho por Alejandro Valencia Blancas\n",
      "\n",
      "\n",
      "He creado un grafo con topología de estrella, donde todos los nodos periféricos se\n",
      "enlazan tan solo con el nodo central por lo que este es el total centro del grafo\n",
      "de esta forma, este nodo es el más relevante del grafo.\n",
      "\n",
      "Numero de nodos: N = 7.\n",
      "Número de enlaces: = 6.\n",
      "Lmax: Al ser un grafo no dirigido usamos N(N-1)/2 -> 7*6/2 = 21\n",
      "Densidad: L / Lmax -> 7/21.\n",
      "\n",
      "Todos los nodos tienen grado 1 expecto el del centro que tiene grado 6, por lo que el\n",
      "grado medio es:  grado medio es (1+1+1+1+1+1+6)/7 -> 12/7.\n",
      "\n",
      "Grado de los nodos: [(0, 6), (1, 1), (2, 1), (3, 1), (4, 1), (5, 1), (6, 1)]-\n",
      "\n",
      "El agrupammiento o clustering es igual para todos es 0, ya que todos menos el centro\n",
      "solo tienen un vecino y los vecinos del centro no se tocan entre sí.\n",
      "Como podemos comprobar utilizando el primer nodo -> 0.\n",
      "Y otro nodo cualquiera -> 0.\n",
      "\n",
      "La excentricidad es igual para todos los nodos que es 2, excepto el centro que es 1.\n",
      "\n",
      "Todos los nodos son igual de centrales cuentan con un enlace, excepto el centro que \n",
      "cuenta con 6 enlaces convirtiéndolo en el nodo más importante del grafo por diferencia.\n"
     ]
    },
    {
     "data": {
      "image/png": "[encoded data removed]",
      "text/plain": [
       "<Figure size 432x288 with 1 Axes>"
      ]
     },
     "metadata": {},
     "output_type": "display_data"
    }
   ],
   "source": [
    "# import required module\n",
    "import networkx as nx\n",
    "   \n",
    "# create object\n",
    "G = nx.star_graph(6)\n",
    "   \n",
    "# illustrate graph\n",
    "nx.draw(G, node_color = 'green',\n",
    "        node_size =150)\n",
    "print(\"                                                                                    Hecho por Alejandro Valencia Blancas\"\"\\n\"\"\\n\")\n",
    "print(\"He creado un grafo con topología de estrella, donde todos los nodos periféricos se\"\"\\n\"\n",
    "    \"enlazan tan solo con el nodo central por lo que este es el total centro del grafo\"\"\\n\"\n",
    "    \"de esta forma, este nodo es el más relevante del grafo.\"\"\\n\")\n",
    "print(\"Numero de nodos: N = {}.\".format(G.number_of_nodes()))\n",
    "print(\"Número de enlaces: = {}.\".format(G.number_of_edges()))\n",
    "print(\"Lmax: Al ser un grafo no dirigido usamos N(N-1)/2 -> 7*6/2 = 21\" \"\\n\"\n",
    "      \"Densidad: L / Lmax -> 7/21.\"\"\\n\")\n",
    "\n",
    "print(\"Todos los nodos tienen grado 1 expecto el del centro que tiene grado 6, por lo que el\"\"\\n\"\n",
    "      \"grado medio es:  grado medio es (1+1+1+1+1+1+6)/7 -> 12/7.\"\"\\n\")\n",
    "\n",
    "print(\"Grado de los nodos: {}-\"\"\\n\".format(G.degree()))\n",
    "\n",
    "print(\"El agrupammiento o clustering es igual para todos es 0, ya que todos menos el centro\"\"\\n\"\n",
    "    \"solo tienen un vecino y los vecinos del centro no se tocan entre sí.\"\"\\n\"\n",
    "    \"Como podemos comprobar utilizando el primer nodo -> {}.\".format(nx.clustering(G, 0)))\n",
    "print(\"Y otro nodo cualquiera -> {}.\"\"\\n\".format(nx.clustering(G, 0)))\n",
    "\n",
    "print(\"La excentricidad es igual para todos los nodos que es 2, excepto el centro que es 1.\"\"\\n\")\n",
    "\n",
    "print(\"Todos los nodos son igual de centrales cuentan con un enlace, excepto el centro que \"\"\\n\"\n",
    "      \"cuenta con 6 enlaces convirtiéndolo en el nodo más importante del grafo por diferencia.\")\n"
   ]
  },
  {
   "cell_type": "code",
   "execution_count": 23,
   "id": "60ac0ccd",
   "metadata": {},
   "outputs": [
    {
     "name": "stdout",
     "output_type": "stream",
     "text": [
      "                                                                                    Hecho por Alejandro Valencia Blancas\n",
      "\n",
      "\n",
      "He creado un grafo con topología de anillo, donde todos los nodos se enlazan con sus\n",
      "vecinos colindantes que al usar esta topología son 2, formando un 'circulo'. Cada nodo tiene grado dos y se\n",
      "enlazan de forma que forman un anillo conectado en la que todos los nodos son igual\n",
      "de importante.\n",
      "\n",
      "Numero de nodos: N = 8.\n",
      "Número de enlaces: = 8.\n",
      "Lmax: Al ser un grafo no dirigido usamos N(N-1)/2 -> 8*7/2 = 28.\n",
      "Densidad: L / Lmax -> 8/28.\n",
      "\n",
      "Todos los nodos tienen grado 2, por lo que el grado medio es también 2.\n",
      "Grado de los nodos: [(0, 2), (1, 2), (2, 2), (3, 2), (4, 2), (5, 2), (6, 2), (7, 2)].\n",
      "\n",
      "El agrupammiento o clustering es igual para todos y es 0, ya que los vecinos de los nodos\n",
      "no se tocan entre sí, como podemos comprobar utilizando el primer nodo -> 0.\n",
      "\n",
      "La excentricidad es igual para todos los nodos, en este caso 4.\n",
      "\n",
      "Todos los nodos son igual de centrales, todos cuentan con 2 enlaces.\n"
     ]
    },
    {
     "data": {
      "image/png": "[encoded data removed]",
      "text/plain": [
       "<Figure size 432x288 with 1 Axes>"
      ]
     },
     "metadata": {},
     "output_type": "display_data"
    }
   ],
   "source": [
    "# import required module\n",
    "import networkx as nx\n",
    "   \n",
    "# create object\n",
    "G=nx.Graph()\n",
    "\n",
    "\n",
    "# illustrate graph\n",
    "G.add_edge(0,1)\n",
    "G.add_edge(1,2)\n",
    "G.add_edge(2,3)\n",
    "G.add_edge(3,4)\n",
    "G.add_edge(4,5)\n",
    "G.add_edge(5,6)\n",
    "G.add_edge(6,7)\n",
    "G.add_edge(7,0)\n",
    "\n",
    "\n",
    "nx.draw(G, node_color = 'green',\n",
    "        node_size = 150)\n",
    "\n",
    "print(\"                                                                                    Hecho por Alejandro Valencia Blancas\"\"\\n\"\"\\n\")\n",
    "\n",
    "print(\"He creado un grafo con topología de anillo, donde todos los nodos se enlazan con sus\"\"\\n\"\n",
    "    \"vecinos colindantes que al usar esta topología son 2, formando un 'circulo'. Cada nodo tiene grado dos y se\"\"\\n\"\n",
    "    \"enlazan de forma que forman un anillo conectado en la que todos los nodos son igual\"\"\\n\"\n",
    "    \"de importante.\"\"\\n\")\n",
    "print(\"Numero de nodos: N = {}.\".format(G.number_of_nodes()))\n",
    "print(\"Número de enlaces: = {}.\".format(G.number_of_edges()))\n",
    "print(\"Lmax: Al ser un grafo no dirigido usamos N(N-1)/2 -> 8*7/2 = 28.\" \"\\n\"\n",
    "      \"Densidad: L / Lmax -> 8/28.\"\"\\n\")\n",
    "\n",
    "print(\"Todos los nodos tienen grado 2, por lo que el grado medio es también 2.\")\n",
    "\n",
    "print(\"Grado de los nodos: {}.\"\"\\n\".format(G.degree()))\n",
    "\n",
    "print(\"El agrupammiento o clustering es igual para todos y es 0, ya que los vecinos de los nodos\"\"\\n\"\n",
    "    \"no se tocan entre sí, como podemos comprobar utilizando el primer nodo -> {}.\"\"\\n\".format(nx.clustering(G, 0)))\n",
    "\n",
    "print(\"La excentricidad es igual para todos los nodos, en este caso 4.\"\"\\n\")\n",
    "\n",
    "print(\"Todos los nodos son igual de centrales, todos cuentan con 2 enlaces.\")\n"
   ]
  },
  {
   "cell_type": "code",
   "execution_count": null,
   "id": "b44e52e3",
   "metadata": {},
   "outputs": [],
   "source": [
    "\n"
   ]
  },
  {
   "cell_type": "code",
   "execution_count": null,
   "id": "d8de7299",
   "metadata": {},
   "outputs": [],
   "source": []
  }
 ],
 "metadata": {
  "kernelspec": {
   "display_name": "Python 3 (ipykernel)",
   "language": "python",
   "name": "python3"
  },
  "language_info": {
   "codemirror_mode": {
    "name": "ipython",
    "version": 3
   },
   "file_extension": ".py",
   "mimetype": "text/x-python",
   "name": "python",
   "nbconvert_exporter": "python",
   "pygments_lexer": "ipython3",
   "version": "3.9.12"
  }
 },
 "nbformat": 4,
 "nbformat_minor": 5
}
