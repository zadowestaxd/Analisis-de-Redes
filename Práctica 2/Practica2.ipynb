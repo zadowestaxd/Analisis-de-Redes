{
 "cells": [
  {
   "cell_type": "code",
   "execution_count": 9,
   "id": "83cb4fb2",
   "metadata": {},
   "outputs": [],
   "source": [
    "import matplotlib.pyplot as plt\n",
    "import networkx as nx\n",
    "%matplotlib inline"
   ]
  },
  {
   "cell_type": "code",
   "execution_count": 3,
   "id": "bcefbeb4",
   "metadata": {},
   "outputs": [],
   "source": [
    "# El grado medio obtenido en la P1 es de 5.996. Este es el que usaremos para generar la probabilidad de que dos nodos estén \n",
    "# conectados en la nuevas redes generadas aleatoriamente con los distintos modelos estudiados."
   ]
  },
  {
   "cell_type": "code",
   "execution_count": 101,
   "id": "f990d2f6",
   "metadata": {},
   "outputs": [
    {
     "name": "stdout",
     "output_type": "stream",
     "text": [
      "RED 1 \n",
      " ---------------------------------------------------------------- \n",
      "\n",
      "Número de nodos: 446.0\n",
      "Número de aristas: 2.902562618380047e+16\n",
      "Camino mínimo medio: 403.8\n",
      "Grado medio: 5.79\n",
      "Radio de la red 4.9\n",
      "Diámetro de la red 7.2\n",
      "Media del coeficiente de clustering 0.016093814352651063\n",
      "Coeficiente de clustering global 0.01905594701285009\n"
     ]
    }
   ],
   "source": [
    "# Red conforme a una secuencia de grados\n",
    "#\n",
    "# Podemos generar una red con una secuencia de grados dada\n",
    "# Dicha secuencia puede seguir una determinada distribución, \n",
    "# por ejemplo, una uniforme, una normal, una ley de potencias, etc\n",
    "# Sin embargo, la red resultante puede tener multi-enlaces y \n",
    "# auto-enlaces. La presencia de estos decrece si el número de nodos\n",
    "# es alto con respecto al grado medio de la distribución.\n",
    "\n",
    "import numpy as np\n",
    "\n",
    "N1=L1=gradomedio1=caminocorto1=radio1=diametro1=clustering1=clusterglobal1=0\n",
    "\n",
    "#Creamos las variables para guardar la media, desviación típica, el valor máximo y el valor mínimo para cada propiedad\n",
    "mean = dt = vmax = vmin = []; \n",
    "for x in range(50):\n",
    "    #La suma de todos los grados de los nodos de la red debe ser par\n",
    "        while sum(grados_aleatorios) % 2 != 0:\n",
    "            # Generamos una secuencia de grados aleatoria que sigue\n",
    "            # una distribución normal de media 15 y desviación típica 2\n",
    "            # Generamos 40 grados (nuestra red tendrá 40 nodos)\n",
    "            valores_aleatorios = np.random.normal(6, 4, 445) \n",
    "            # Truncamos los valores para tener números enteros\n",
    "            grados_aleatorios = valores_aleatorios.astype(int)\n",
    "        \n",
    "        grafo_redp1 = nx.configuration_model(grados_aleatorios)\n",
    "\n",
    "        # Potencialmente la red puede tener múltiples enlaces (entre \n",
    "        # un mismo par de nodos). Para eliminarlos se hace lo siguiente\n",
    "        grafo_redp1 = nx.Graph(grafo_redp1)\n",
    "\n",
    "        # IDEM con los auto-enlaces (self-loops)\n",
    "        grafo_redp1.remove_edges_from(nx.selfloop_edges(grafo_redp1))\n",
    "        red1 = grafo_redp1\n",
    "        mean.append(np.mean(red1))\n",
    "        dt.append(np.std(red1))\n",
    "        vmax.append(np.amax(red1))\n",
    "        vmin.append(np.amin(red1))\n",
    "\n",
    "        N1 = N1 + red1.number_of_nodes()\n",
    "        L1 += L1 + red1.number_of_edges()\n",
    "        gradomedio1 += 2 * red1.number_of_edges()/ red1.number_of_nodes()\n",
    "        clustering1 += nx.average_clustering(red1)\n",
    "        clusterglobal1 += nx.transitivity(red1)\n",
    "        #Componentes conectados de la red para calcular el camino más corto, diámetro y radio de la red\n",
    "        conectado = nx.connected_components(red1)\n",
    "        maxconectado = max(conectado, key=len) \n",
    "        caminocorto1 += len(list(nx.shortest_path(red1.subgraph(maxconectado))))\n",
    "        radio1 += nx.radius(red1.subgraph(maxconectado))\n",
    "        diametro1 += nx.diameter(red1.subgraph(maxconectado))\n",
    "\n",
    "    \n",
    "print('RED 1 \\n ---------------------------------------------------------------- \\n')\n",
    "print('Número de nodos:', N1/50)\n",
    "print('Número de aristas:',round(L1/50,1))\n",
    "print('Camino mínimo medio:',round(caminocorto1/50,1))\n",
    "print('Grado medio:',round(gradomedio1/50,2))\n",
    "print('Radio medio de la red', round(radio1/50,1))\n",
    "print('Diámetro medio de la red', round(diametro1/50,1))\n",
    "print('Media del coeficiente de clustering', clustering1/50)\n",
    "print('Coeficiente de clustering global', clusterglobal1/50)\n",
    "\n",
    "\n",
    "\n",
    "# NOTA: Tanto al truncar/redondear los números de la normal, como al\n",
    "# eliminar auto-enlaces y multi-enlaces alteramos ligeramente la secuencia\n",
    "# pudiendo hacer que no se pueda ajustar a ella la distribución de origen "
   ]
  },
  {
   "cell_type": "code",
   "execution_count": 89,
   "id": "6a43fe4d",
   "metadata": {},
   "outputs": [
    {
     "name": "stdout",
     "output_type": "stream",
     "text": [
      "[0, 1, 2, 3, 4, 5, 7, 8, 9, 10, 11, 12, 14, 16, 17, 18, 20, 21, 22, 23, 24, 25, 26, 27, 29, 30, 31, 32, 33, 34, 36, 37, 38, 39, 40, 41, 42, 43, 44, 45, 46, 48, 49, 51, 52, 53, 54, 55, 56, 57, 58, 59, 60, 61, 62, 63, 64, 65, 66, 67, 68, 69, 70, 71, 72, 73, 74, 75, 76, 77, 79, 80, 82, 83, 84, 85, 86, 87, 88, 89, 90, 91, 92, 93, 94, 95, 96, 97, 98, 100, 101, 102, 105, 107, 108, 109, 110, 111, 112, 113, 115, 116, 117, 118, 120, 122, 123, 124, 125, 126, 127, 128, 129, 130, 131, 132, 134, 135, 136, 137, 138, 139, 140, 141, 142, 143, 144, 145, 146, 147, 148, 149, 150, 151, 152, 153, 154, 156, 157, 158, 159, 160, 161, 162, 163, 164, 165, 166, 167, 168, 170, 171, 172, 174, 175, 176, 177, 178, 179, 180, 181, 182, 183, 184, 185, 186, 187, 188, 189, 190, 191, 193, 195, 196, 197, 198, 199, 200, 201, 202, 203, 204, 205, 206, 207, 209, 211, 212, 213, 214, 215, 216, 217, 218, 219, 220, 221, 222, 223, 224, 225, 226, 227, 228, 229, 230, 231, 232, 234, 235, 236, 237, 238, 239, 240, 241, 242, 243, 244, 245, 246, 247, 248, 249, 250, 251, 253, 255, 256, 257, 258, 259, 260, 262, 263, 264, 265, 266, 267, 268, 269, 270, 271, 272, 273, 274, 275, 276, 277, 278, 279, 280, 281, 282, 283, 284, 285, 286, 288, 289, 290, 291, 292, 293, 294, 295, 296, 297, 298, 299, 300, 301, 302, 303, 304, 305, 306, 307, 308, 309, 310, 312, 313, 314, 315, 316, 318, 320, 321, 322, 323, 324, 325, 326, 327, 328, 329, 330, 331, 332, 333, 334, 335, 336, 337, 338, 339, 340, 341, 342, 343, 344, 345, 346, 347, 348, 349, 351, 352, 353, 354, 355, 356, 357, 358, 360, 361, 362, 363, 364, 365, 366, 367, 368, 369, 370, 372, 373, 374, 375, 376, 377, 378, 379, 380, 381, 382, 383, 384, 385, 386, 387, 388, 390, 391, 392, 393, 394, 395, 396, 397, 398, 399, 400, 401, 402, 403, 405, 407, 408, 409, 410, 411, 412, 413, 414, 415, 416, 417, 418, 419, 420, 421, 423, 424, 425, 426, 427, 429, 430, 431, 432, 433, 435, 436, 437, 438, 439, 440, 441, 442, 443, 444, 445]\n"
     ]
    }
   ],
   "source": [
    "print(list(red1.subgraph(maxconectado)))"
   ]
  },
  {
   "cell_type": "code",
   "execution_count": 61,
   "id": "495e319d",
   "metadata": {},
   "outputs": [],
   "source": [
    "# Donde N es el número de nodos de la red\n",
    "nodos1 = 1500;\n",
    "nodos2 = 445;\n",
    "prob1 = 5.996/nodos1;\n",
    "prob2 = 5.996/nodos2;"
   ]
  },
  {
   "cell_type": "code",
   "execution_count": 47,
   "id": "d4fbb9fc",
   "metadata": {},
   "outputs": [
    {
     "name": "stdout",
     "output_type": "stream",
     "text": [
      "RED 1 \n",
      " ---------------------------------------------------------------- \n",
      "\n",
      "Número de nodos: 1500.0\n",
      "Número de aristas: 1.0070242292728096e+17\n",
      "Camino mínimo medio: 0.0\n",
      "Grado medio: 5485291110338.115\n",
      "Radio de la red 0.0\n",
      "Diámetro de la red 0.0\n",
      "Media del coeficiente de clustering 0.004000371341077219\n",
      "Coeficiente de clustering global 0.004067897804658459\n"
     ]
    }
   ],
   "source": [
    "# Modelamos las redes con el modelo Erdos Renyi. Una con 1500 nodos de parámetro y la otra con 445\n",
    "N1=L1=gradomedio1=caminocorto1=radio1=diametro1=clustering1=clusterglobal1=0\n",
    "N2=L2=gradomedio2=caminocorto2=radio2=diametro2=clustering2=clusterglobal2=0\n",
    "for x in range(50):\n",
    "    red1 = nx.erdos_renyi_graph(nodos1, prob1)\n",
    "    red2 = nx.erdos_renyi_graph(nodos2, prob2)\n",
    "    \n",
    "    N1 = N1 + red1.number_of_nodes()\n",
    "    L1 += L1 + red1.number_of_edges()\n",
    "    gradomedio1 += 2 * L1 / N1\n",
    "    clustering1 += nx.average_clustering(red1)\n",
    "    clusterglobal1 += nx.transitivity(red1)\n",
    "    N2 = N2 + red2.number_of_nodes()\n",
    "    L2 += L2 + red2.number_of_edges()\n",
    "    gradomedio2 += 2 * red2.number_of_edges() / red2.number_of_nodes()\n",
    "    clustering2 += nx.average_clustering(red2)\n",
    "    clusterglobal2 += nx.transitivity(red2)\n",
    "    #Componentes conectados de la red para calcular el camino más corto, diámetro y radio de la red\n",
    "        conectado = nx.connected_components(red1)\n",
    "        maxconectado = max(conectado, key=len) \n",
    "        caminocorto1 += len(list(nx.shortest_path(red1.subgraph(maxconectado))))\n",
    "        radio1 += nx.radius(red1.subgraph(maxconectado))\n",
    "        diametro1 += nx.diameter(red1.subgraph(maxconectado))\n",
    "    #Componentes conectados de la red para calcular el camino más corto, diámetro y radio de la red\n",
    "        conectado = nx.connected_components(red2)\n",
    "        maxconectado = max(conectado, key=len) \n",
    "        caminocorto2 += len(list(nx.shortest_path(red2.subgraph(maxconectado))))\n",
    "        radio2 += nx.radius(red2.subgraph(maxconectado))\n",
    "        diametro2 += nx.diameter(red2.subgraph(maxconectado))\n",
    "    radio2 += nx.radius(red2)\n",
    "    diametro2 += nx.diameter(red2)\n",
    "    caminocorto2 += nx.average_shortest_path_length(red2)\n",
    "print('RED 1 \\n ---------------------------------------------------------------- \\n')\n",
    "print('Número de nodos:', N1/50)\n",
    "print('Número de aristas:',L1/50)\n",
    "print('Camino mínimo medio:',caminocorto1/50 )\n",
    "print('Grado medio:',gradomedio1/50)\n",
    "print('Radio de la red', radio1/50)\n",
    "print('Diámetro de la red', diametro1/50)\n",
    "print('Media del coeficiente de clustering', clustering1/50)\n",
    "print('Coeficiente de clustering global', clusterglobal1/50)\n",
    "\n"
   ]
  },
  {
   "cell_type": "code",
   "execution_count": 10,
   "id": "c15fa259",
   "metadata": {},
   "outputs": [
    {
     "name": "stdout",
     "output_type": "stream",
     "text": [
      "Número de nodos: 34\n",
      "Número de aristas: 79\n",
      "Grado medio: 4.647058823529412\n",
      "Camino mínimo medio: 2.46524064171123\n",
      "Radio de la red 3\n",
      "Diámetro de la red 6\n",
      "Media del coeficiente de clustering 0.26178804855275445\n",
      "Coeficiente de clustering global 0.19834710743801653\n"
     ]
    }
   ],
   "source": []
  },
  {
   "cell_type": "code",
   "execution_count": null,
   "id": "697d2cb0",
   "metadata": {},
   "outputs": [],
   "source": []
  },
  {
   "cell_type": "code",
   "execution_count": null,
   "id": "353d66cb",
   "metadata": {},
   "outputs": [],
   "source": []
  }
 ],
 "metadata": {
  "kernelspec": {
   "display_name": "Python 3 (ipykernel)",
   "language": "python",
   "name": "python3"
  },
  "language_info": {
   "codemirror_mode": {
    "name": "ipython",
    "version": 3
   },
   "file_extension": ".py",
   "mimetype": "text/x-python",
   "name": "python",
   "nbconvert_exporter": "python",
   "pygments_lexer": "ipython3",
   "version": "3.9.12"
  }
 },
 "nbformat": 4,
 "nbformat_minor": 5
}
